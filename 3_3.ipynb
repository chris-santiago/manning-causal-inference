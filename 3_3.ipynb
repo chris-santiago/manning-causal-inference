{
 "cells": [
  {
   "cell_type": "code",
   "execution_count": null,
   "id": "6ead83fd-8107-4f61-8a4f-8ec7f03e21e0",
   "metadata": {},
   "outputs": [],
   "source": []
  },
  {
   "cell_type": "code",
   "execution_count": 35,
   "id": "2759500f-4d7a-4f1e-b2f6-c86448c3d078",
   "metadata": {},
   "outputs": [],
   "source": [
    "import pandas as pd\n",
    "import seaborn as sns\n",
    "import matplotlib.pyplot as plt\n",
    "import statsmodels.api as sm\n",
    "import statsmodels.formula.api as smf"
   ]
  },
  {
   "cell_type": "code",
   "execution_count": 2,
   "id": "7833c5f4-9bd7-4aa6-8392-fb229a30ac5c",
   "metadata": {},
   "outputs": [],
   "source": [
    "FILE = 'diffs_plus.parq.gzip'\n",
    "\n",
    "sns.set_style(\"darkgrid\")\n",
    "pd.options.display.max_columns = 100"
   ]
  },
  {
   "cell_type": "code",
   "execution_count": 3,
   "id": "64d88f5b-27b3-4f64-8829-af4e570d6fa0",
   "metadata": {},
   "outputs": [
    {
     "data": {
      "text/html": [
       "<div>\n",
       "<style scoped>\n",
       "    .dataframe tbody tr th:only-of-type {\n",
       "        vertical-align: middle;\n",
       "    }\n",
       "\n",
       "    .dataframe tbody tr th {\n",
       "        vertical-align: top;\n",
       "    }\n",
       "\n",
       "    .dataframe thead th {\n",
       "        text-align: right;\n",
       "    }\n",
       "</style>\n",
       "<table border=\"1\" class=\"dataframe\">\n",
       "  <thead>\n",
       "    <tr style=\"text-align: right;\">\n",
       "      <th></th>\n",
       "      <th>sales</th>\n",
       "      <th>discount</th>\n",
       "      <th>age</th>\n",
       "      <th>gender</th>\n",
       "      <th>cust_state</th>\n",
       "      <th>tenure</th>\n",
       "      <th>profit</th>\n",
       "      <th>month</th>\n",
       "      <th>post_intervention</th>\n",
       "      <th>treated</th>\n",
       "    </tr>\n",
       "  </thead>\n",
       "  <tbody>\n",
       "    <tr>\n",
       "      <th>0</th>\n",
       "      <td>1153.28</td>\n",
       "      <td>0</td>\n",
       "      <td>25</td>\n",
       "      <td>O</td>\n",
       "      <td>MA</td>\n",
       "      <td>19</td>\n",
       "      <td>57.66</td>\n",
       "      <td>7</td>\n",
       "      <td>True</td>\n",
       "      <td>False</td>\n",
       "    </tr>\n",
       "    <tr>\n",
       "      <th>1</th>\n",
       "      <td>1978.13</td>\n",
       "      <td>0</td>\n",
       "      <td>26</td>\n",
       "      <td>M</td>\n",
       "      <td>MG</td>\n",
       "      <td>16</td>\n",
       "      <td>98.91</td>\n",
       "      <td>6</td>\n",
       "      <td>True</td>\n",
       "      <td>False</td>\n",
       "    </tr>\n",
       "    <tr>\n",
       "      <th>2</th>\n",
       "      <td>1095.70</td>\n",
       "      <td>0</td>\n",
       "      <td>26</td>\n",
       "      <td>W</td>\n",
       "      <td>RJ</td>\n",
       "      <td>20</td>\n",
       "      <td>54.78</td>\n",
       "      <td>2</td>\n",
       "      <td>False</td>\n",
       "      <td>True</td>\n",
       "    </tr>\n",
       "    <tr>\n",
       "      <th>3</th>\n",
       "      <td>2404.90</td>\n",
       "      <td>25</td>\n",
       "      <td>30</td>\n",
       "      <td>W</td>\n",
       "      <td>BA</td>\n",
       "      <td>18</td>\n",
       "      <td>95.24</td>\n",
       "      <td>6</td>\n",
       "      <td>True</td>\n",
       "      <td>True</td>\n",
       "    </tr>\n",
       "    <tr>\n",
       "      <th>4</th>\n",
       "      <td>1704.80</td>\n",
       "      <td>0</td>\n",
       "      <td>38</td>\n",
       "      <td>M</td>\n",
       "      <td>PB</td>\n",
       "      <td>15</td>\n",
       "      <td>85.24</td>\n",
       "      <td>4</td>\n",
       "      <td>False</td>\n",
       "      <td>False</td>\n",
       "    </tr>\n",
       "  </tbody>\n",
       "</table>\n",
       "</div>"
      ],
      "text/plain": [
       "     sales  discount  age gender cust_state  tenure  profit  month  \\\n",
       "0  1153.28         0   25      O         MA      19   57.66      7   \n",
       "1  1978.13         0   26      M         MG      16   98.91      6   \n",
       "2  1095.70         0   26      W         RJ      20   54.78      2   \n",
       "3  2404.90        25   30      W         BA      18   95.24      6   \n",
       "4  1704.80         0   38      M         PB      15   85.24      4   \n",
       "\n",
       "   post_intervention  treated  \n",
       "0               True    False  \n",
       "1               True    False  \n",
       "2              False     True  \n",
       "3               True     True  \n",
       "4              False    False  "
      ]
     },
     "execution_count": 3,
     "metadata": {},
     "output_type": "execute_result"
    }
   ],
   "source": [
    "data = pd.read_parquet(FILE)\n",
    "data.head()"
   ]
  },
  {
   "cell_type": "code",
   "execution_count": 26,
   "id": "80d12fd5-6a8a-40df-87fc-9e3c35e5a9cb",
   "metadata": {},
   "outputs": [
    {
     "data": {
      "image/png": "[encoded data removed]",
      "text/plain": [
       "<Figure size 640x480 with 1 Axes>"
      ]
     },
     "metadata": {},
     "output_type": "display_data"
    }
   ],
   "source": [
    "by_month = data.groupby(['month', 'treated'])['profit'].mean().reset_index()\n",
    "sns.lineplot(x='month', y='profit', hue='treated', data=by_month)\n",
    "plt.axvline(5, color='gray', linestyle='dashed')\n",
    "plt.annotate(text='Intervention', xy=(5, 100), xytext=(7, 110), arrowprops={'arrowstyle': \"->\", 'color': 'black'})\n",
    "plt.show()"
   ]
  },
  {
   "cell_type": "code",
   "execution_count": 29,
   "id": "c9a8f576-ba70-4b4e-b196-168dc07a7769",
   "metadata": {},
   "outputs": [
    {
     "data": {
      "text/plain": [
       "post_intervention  treated\n",
       "False              False      80.527533\n",
       "                   True       78.176658\n",
       "True               False      92.442781\n",
       "                   True       85.318404\n",
       "Name: profit, dtype: float64"
      ]
     },
     "execution_count": 29,
     "metadata": {},
     "output_type": "execute_result"
    }
   ],
   "source": [
    "atet = data.groupby(['post_intervention', 'treated'])['profit'].mean()\n",
    "atet"
   ]
  },
  {
   "cell_type": "code",
   "execution_count": 39,
   "id": "94cefd66-9cc2-48ed-8b44-287d72516544",
   "metadata": {},
   "outputs": [
    {
     "name": "stdout",
     "output_type": "stream",
     "text": [
      "Growth %, Control: 0.148 | Growth %, Treated: 0.0914\n",
      "Difference: -0.0566\n"
     ]
    }
   ],
   "source": [
    "growth_treated = (atet[(True, True)] - atet[(False, True)]) / atet[(False, True)]\n",
    "growth_control = (atet[(True, False)] - atet[(False, False)]) / atet[(False, False)]\n",
    "\n",
    "print(f\"Growth %, Control: {growth_control.round(4)} | Growth %, Treated: {growth_treated.round(4)}\")\n",
    "print(f\"Difference: {(growth_treated - growth_control).round(4)}\")"
   ]
  },
  {
   "cell_type": "code",
   "execution_count": 40,
   "id": "457fa2ba-321c-47d4-8d61-d0c7aa8baee7",
   "metadata": {},
   "outputs": [
    {
     "name": "stdout",
     "output_type": "stream",
     "text": [
      "Growth $, Control: 11.9152 | Growth $, Treated: 7.1417\n",
      "Difference: -4.7735\n"
     ]
    }
   ],
   "source": [
    "growth_treated = (atet[(True, True)] - atet[(False, True)])\n",
    "growth_control = (atet[(True, False)] - atet[(False, False)])\n",
    "\n",
    "print(f\"Growth $, Control: {growth_control.round(4)} | Growth $, Treated: {growth_treated.round(4)}\")\n",
    "print(f\"Difference: {(growth_treated - growth_control).round(4)}\")"
   ]
  },
  {
   "cell_type": "code",
   "execution_count": 36,
   "id": "f4c1196c-65a3-4904-901f-5f15e48f6ce9",
   "metadata": {},
   "outputs": [
    {
     "data": {
      "text/html": [
       "<table class=\"simpletable\">\n",
       "<caption>OLS Regression Results</caption>\n",
       "<tr>\n",
       "  <th>Dep. Variable:</th>         <td>profit</td>      <th>  R-squared:         </th>  <td>   0.030</td>  \n",
       "</tr>\n",
       "<tr>\n",
       "  <th>Model:</th>                   <td>OLS</td>       <th>  Adj. R-squared:    </th>  <td>   0.030</td>  \n",
       "</tr>\n",
       "<tr>\n",
       "  <th>Method:</th>             <td>Least Squares</td>  <th>  F-statistic:       </th>  <td>   511.6</td>  \n",
       "</tr>\n",
       "<tr>\n",
       "  <th>Date:</th>             <td>Sat, 10 Dec 2022</td> <th>  Prob (F-statistic):</th>   <td>  0.00</td>   \n",
       "</tr>\n",
       "<tr>\n",
       "  <th>Time:</th>                 <td>10:55:21</td>     <th>  Log-Likelihood:    </th> <td>-2.4221e+05</td>\n",
       "</tr>\n",
       "<tr>\n",
       "  <th>No. Observations:</th>      <td> 50000</td>      <th>  AIC:               </th>  <td>4.844e+05</td> \n",
       "</tr>\n",
       "<tr>\n",
       "  <th>Df Residuals:</th>          <td> 49996</td>      <th>  BIC:               </th>  <td>4.845e+05</td> \n",
       "</tr>\n",
       "<tr>\n",
       "  <th>Df Model:</th>              <td>     3</td>      <th>                     </th>      <td> </td>     \n",
       "</tr>\n",
       "<tr>\n",
       "  <th>Covariance Type:</th>      <td>nonrobust</td>    <th>                     </th>      <td> </td>     \n",
       "</tr>\n",
       "</table>\n",
       "<table class=\"simpletable\">\n",
       "<tr>\n",
       "                      <td></td>                         <th>coef</th>     <th>std err</th>      <th>t</th>      <th>P>|t|</th>  <th>[0.025</th>    <th>0.975]</th>  \n",
       "</tr>\n",
       "<tr>\n",
       "  <th>Intercept</th>                                 <td>   80.5275</td> <td>    0.342</td> <td>  235.715</td> <td> 0.000</td> <td>   79.858</td> <td>   81.197</td>\n",
       "</tr>\n",
       "<tr>\n",
       "  <th>treated[T.True]</th>                           <td>   -2.3509</td> <td>    0.532</td> <td>   -4.421</td> <td> 0.000</td> <td>   -3.393</td> <td>   -1.309</td>\n",
       "</tr>\n",
       "<tr>\n",
       "  <th>post_intervention[T.True]</th>                 <td>   11.9152</td> <td>    0.402</td> <td>   29.673</td> <td> 0.000</td> <td>   11.128</td> <td>   12.702</td>\n",
       "</tr>\n",
       "<tr>\n",
       "  <th>treated[T.True]:post_intervention[T.True]</th> <td>   -4.7735</td> <td>    0.625</td> <td>   -7.642</td> <td> 0.000</td> <td>   -5.998</td> <td>   -3.549</td>\n",
       "</tr>\n",
       "</table>\n",
       "<table class=\"simpletable\">\n",
       "<tr>\n",
       "  <th>Omnibus:</th>       <td>4792.696</td> <th>  Durbin-Watson:     </th> <td>   1.968</td> \n",
       "</tr>\n",
       "<tr>\n",
       "  <th>Prob(Omnibus):</th>  <td> 0.000</td>  <th>  Jarque-Bera (JB):  </th> <td>24089.614</td>\n",
       "</tr>\n",
       "<tr>\n",
       "  <th>Skew:</th>           <td> 0.338</td>  <th>  Prob(JB):          </th> <td>    0.00</td> \n",
       "</tr>\n",
       "<tr>\n",
       "  <th>Kurtosis:</th>       <td> 6.332</td>  <th>  Cond. No.          </th> <td>    8.83</td> \n",
       "</tr>\n",
       "</table><br/><br/>Notes:<br/>[1] Standard Errors assume that the covariance matrix of the errors is correctly specified."
      ],
      "text/plain": [
       "<class 'statsmodels.iolib.summary.Summary'>\n",
       "\"\"\"\n",
       "                            OLS Regression Results                            \n",
       "==============================================================================\n",
       "Dep. Variable:                 profit   R-squared:                       0.030\n",
       "Model:                            OLS   Adj. R-squared:                  0.030\n",
       "Method:                 Least Squares   F-statistic:                     511.6\n",
       "Date:                Sat, 10 Dec 2022   Prob (F-statistic):               0.00\n",
       "Time:                        10:55:21   Log-Likelihood:            -2.4221e+05\n",
       "No. Observations:               50000   AIC:                         4.844e+05\n",
       "Df Residuals:                   49996   BIC:                         4.845e+05\n",
       "Df Model:                           3                                         \n",
       "Covariance Type:            nonrobust                                         \n",
       "=============================================================================================================\n",
       "                                                coef    std err          t      P>|t|      [0.025      0.975]\n",
       "-------------------------------------------------------------------------------------------------------------\n",
       "Intercept                                    80.5275      0.342    235.715      0.000      79.858      81.197\n",
       "treated[T.True]                              -2.3509      0.532     -4.421      0.000      -3.393      -1.309\n",
       "post_intervention[T.True]                    11.9152      0.402     29.673      0.000      11.128      12.702\n",
       "treated[T.True]:post_intervention[T.True]    -4.7735      0.625     -7.642      0.000      -5.998      -3.549\n",
       "==============================================================================\n",
       "Omnibus:                     4792.696   Durbin-Watson:                   1.968\n",
       "Prob(Omnibus):                  0.000   Jarque-Bera (JB):            24089.614\n",
       "Skew:                           0.338   Prob(JB):                         0.00\n",
       "Kurtosis:                       6.332   Cond. No.                         8.83\n",
       "==============================================================================\n",
       "\n",
       "Notes:\n",
       "[1] Standard Errors assume that the covariance matrix of the errors is correctly specified.\n",
       "\"\"\""
      ]
     },
     "execution_count": 36,
     "metadata": {},
     "output_type": "execute_result"
    }
   ],
   "source": [
    "formula = 'profit ~ treated + post_intervention + treated:post_intervention'\n",
    "fit = smf.ols(formula, data=data).fit()\n",
    "fit.summary()"
   ]
  },
  {
   "cell_type": "code",
   "execution_count": null,
   "id": "270570be-143b-4f6c-8e85-f819d5dab409",
   "metadata": {},
   "outputs": [],
   "source": []
  }
 ],
 "metadata": {
  "kernelspec": {
   "display_name": "Python 3 (ipykernel)",
   "language": "python",
   "name": "python3"
  },
  "language_info": {
   "codemirror_mode": {
    "name": "ipython",
    "version": 3
   },
   "file_extension": ".py",
   "mimetype": "text/x-python",
   "name": "python",
   "nbconvert_exporter": "python",
   "pygments_lexer": "ipython3",
   "version": "3.9.15"
  }
 },
 "nbformat": 4,
 "nbformat_minor": 5
}
