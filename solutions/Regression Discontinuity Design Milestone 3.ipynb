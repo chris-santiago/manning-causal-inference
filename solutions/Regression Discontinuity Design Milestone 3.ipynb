{
 "cells": [
  {
   "cell_type": "markdown",
   "id": "b6d0da57",
   "metadata": {},
   "source": [
    "# Regression Discontinuity Design\n",
    "\n",
    "## Milestone 1: Getting Familiar with The Data"
   ]
  },
  {
   "cell_type": "code",
   "execution_count": 1,
   "id": "2533ee75",
   "metadata": {},
   "outputs": [],
   "source": [
    "import pandas as pd\n",
    "from matplotlib import pyplot as plt\n",
    "import numpy as np\n",
    "\n",
    "import statsmodels.formula.api as smf"
   ]
  },
  {
   "cell_type": "markdown",
   "id": "a7bc09bb",
   "metadata": {},
   "source": [
    "### Step 1"
   ]
  },
  {
   "cell_type": "code",
   "execution_count": 2,
   "id": "230d47a5",
   "metadata": {
    "scrolled": false
   },
   "outputs": [],
   "source": [
    "rdd_dataset = pd.read_csv(\"./rdd_data.csv\")"
   ]
  },
  {
   "cell_type": "markdown",
   "id": "e40d3572",
   "metadata": {},
   "source": [
    "### Step 2"
   ]
  },
  {
   "cell_type": "code",
   "execution_count": 3,
   "id": "929c45f7",
   "metadata": {},
   "outputs": [
    {
     "data": {
      "text/html": [
       "<div>\n",
       "<style scoped>\n",
       "    .dataframe tbody tr th:only-of-type {\n",
       "        vertical-align: middle;\n",
       "    }\n",
       "\n",
       "    .dataframe tbody tr th {\n",
       "        vertical-align: top;\n",
       "    }\n",
       "\n",
       "    .dataframe thead th {\n",
       "        text-align: right;\n",
       "    }\n",
       "</style>\n",
       "<table border=\"1\" class=\"dataframe\">\n",
       "  <thead>\n",
       "    <tr style=\"text-align: right;\">\n",
       "      <th></th>\n",
       "      <th>spend_1m_baby</th>\n",
       "      <th>spend_2m_baby</th>\n",
       "      <th>spend_3m_baby</th>\n",
       "      <th>spend_4m_baby</th>\n",
       "      <th>spend_5m_baby</th>\n",
       "      <th>spend_6m_baby</th>\n",
       "      <th>spend_1m_clothes</th>\n",
       "      <th>spend_2m_clothes</th>\n",
       "      <th>spend_3m_clothes</th>\n",
       "      <th>spend_4m_clothes</th>\n",
       "      <th>...</th>\n",
       "      <th>spend_4m_eletronic</th>\n",
       "      <th>spend_5m_eletronic</th>\n",
       "      <th>spend_6m_eletronic</th>\n",
       "      <th>sales</th>\n",
       "      <th>discount</th>\n",
       "      <th>profit</th>\n",
       "      <th>age</th>\n",
       "      <th>gender</th>\n",
       "      <th>cust_state</th>\n",
       "      <th>tenure</th>\n",
       "    </tr>\n",
       "  </thead>\n",
       "  <tbody>\n",
       "    <tr>\n",
       "      <th>0</th>\n",
       "      <td>5</td>\n",
       "      <td>0</td>\n",
       "      <td>0</td>\n",
       "      <td>0</td>\n",
       "      <td>10</td>\n",
       "      <td>0.0</td>\n",
       "      <td>0</td>\n",
       "      <td>0.0</td>\n",
       "      <td>0.0</td>\n",
       "      <td>0.0</td>\n",
       "      <td>...</td>\n",
       "      <td>0.0</td>\n",
       "      <td>0.0</td>\n",
       "      <td>0.0</td>\n",
       "      <td>1442.30</td>\n",
       "      <td>$ 4.0</td>\n",
       "      <td>66.93</td>\n",
       "      <td>30</td>\n",
       "      <td>0.0</td>\n",
       "      <td>MA</td>\n",
       "      <td>19</td>\n",
       "    </tr>\n",
       "    <tr>\n",
       "      <th>1</th>\n",
       "      <td>0</td>\n",
       "      <td>0</td>\n",
       "      <td>0</td>\n",
       "      <td>0</td>\n",
       "      <td>0</td>\n",
       "      <td>0.0</td>\n",
       "      <td>0</td>\n",
       "      <td>0.0</td>\n",
       "      <td>0.0</td>\n",
       "      <td>0.0</td>\n",
       "      <td>...</td>\n",
       "      <td>0.0</td>\n",
       "      <td>0.0</td>\n",
       "      <td>0.0</td>\n",
       "      <td>883.96</td>\n",
       "      <td>$ 2.0</td>\n",
       "      <td>41.33</td>\n",
       "      <td>30</td>\n",
       "      <td>1.0</td>\n",
       "      <td>MG</td>\n",
       "      <td>20</td>\n",
       "    </tr>\n",
       "    <tr>\n",
       "      <th>2</th>\n",
       "      <td>0</td>\n",
       "      <td>0</td>\n",
       "      <td>0</td>\n",
       "      <td>0</td>\n",
       "      <td>0</td>\n",
       "      <td>0.0</td>\n",
       "      <td>0</td>\n",
       "      <td>0.0</td>\n",
       "      <td>0.0</td>\n",
       "      <td>0.0</td>\n",
       "      <td>...</td>\n",
       "      <td>0.0</td>\n",
       "      <td>0.0</td>\n",
       "      <td>0.0</td>\n",
       "      <td>4900.67</td>\n",
       "      <td>$ 224.0</td>\n",
       "      <td>15.88</td>\n",
       "      <td>29</td>\n",
       "      <td>0.0</td>\n",
       "      <td>RJ</td>\n",
       "      <td>21</td>\n",
       "    </tr>\n",
       "    <tr>\n",
       "      <th>3</th>\n",
       "      <td>0</td>\n",
       "      <td>0</td>\n",
       "      <td>0</td>\n",
       "      <td>0</td>\n",
       "      <td>0</td>\n",
       "      <td>0.0</td>\n",
       "      <td>25</td>\n",
       "      <td>25.0</td>\n",
       "      <td>0.0</td>\n",
       "      <td>25.0</td>\n",
       "      <td>...</td>\n",
       "      <td>0.0</td>\n",
       "      <td>0.0</td>\n",
       "      <td>0.0</td>\n",
       "      <td>1547.48</td>\n",
       "      <td>$ 1.0</td>\n",
       "      <td>74.99</td>\n",
       "      <td>36</td>\n",
       "      <td>1.0</td>\n",
       "      <td>BA</td>\n",
       "      <td>18</td>\n",
       "    </tr>\n",
       "    <tr>\n",
       "      <th>4</th>\n",
       "      <td>0</td>\n",
       "      <td>0</td>\n",
       "      <td>0</td>\n",
       "      <td>0</td>\n",
       "      <td>0</td>\n",
       "      <td>0.0</td>\n",
       "      <td>0</td>\n",
       "      <td>0.0</td>\n",
       "      <td>0.0</td>\n",
       "      <td>0.0</td>\n",
       "      <td>...</td>\n",
       "      <td>0.0</td>\n",
       "      <td>0.0</td>\n",
       "      <td>0.0</td>\n",
       "      <td>1335.23</td>\n",
       "      <td>$ 13.0</td>\n",
       "      <td>52.41</td>\n",
       "      <td>37</td>\n",
       "      <td>0.0</td>\n",
       "      <td>PB</td>\n",
       "      <td>19</td>\n",
       "    </tr>\n",
       "  </tbody>\n",
       "</table>\n",
       "<p>5 rows × 43 columns</p>\n",
       "</div>"
      ],
      "text/plain": [
       "   spend_1m_baby  spend_2m_baby  spend_3m_baby  spend_4m_baby  spend_5m_baby  \\\n",
       "0              5              0              0              0             10   \n",
       "1              0              0              0              0              0   \n",
       "2              0              0              0              0              0   \n",
       "3              0              0              0              0              0   \n",
       "4              0              0              0              0              0   \n",
       "\n",
       "   spend_6m_baby  spend_1m_clothes  spend_2m_clothes  spend_3m_clothes  \\\n",
       "0            0.0                 0               0.0               0.0   \n",
       "1            0.0                 0               0.0               0.0   \n",
       "2            0.0                 0               0.0               0.0   \n",
       "3            0.0                25              25.0               0.0   \n",
       "4            0.0                 0               0.0               0.0   \n",
       "\n",
       "   spend_4m_clothes  ...  spend_4m_eletronic  spend_5m_eletronic  \\\n",
       "0               0.0  ...                 0.0                 0.0   \n",
       "1               0.0  ...                 0.0                 0.0   \n",
       "2               0.0  ...                 0.0                 0.0   \n",
       "3              25.0  ...                 0.0                 0.0   \n",
       "4               0.0  ...                 0.0                 0.0   \n",
       "\n",
       "   spend_6m_eletronic    sales  discount  profit  age  gender  cust_state  \\\n",
       "0                 0.0  1442.30     $ 4.0   66.93   30     0.0          MA   \n",
       "1                 0.0   883.96     $ 2.0   41.33   30     1.0          MG   \n",
       "2                 0.0  4900.67   $ 224.0   15.88   29     0.0          RJ   \n",
       "3                 0.0  1547.48     $ 1.0   74.99   36     1.0          BA   \n",
       "4                 0.0  1335.23    $ 13.0   52.41   37     0.0          PB   \n",
       "\n",
       "   tenure  \n",
       "0      19  \n",
       "1      20  \n",
       "2      21  \n",
       "3      18  \n",
       "4      19  \n",
       "\n",
       "[5 rows x 43 columns]"
      ]
     },
     "execution_count": 3,
     "metadata": {},
     "output_type": "execute_result"
    }
   ],
   "source": [
    "rdd_dataset.head()"
   ]
  },
  {
   "cell_type": "code",
   "execution_count": 4,
   "id": "71a24ab8",
   "metadata": {},
   "outputs": [
    {
     "data": {
      "text/plain": [
       "spend_1m_baby           int64\n",
       "spend_2m_baby           int64\n",
       "spend_3m_baby           int64\n",
       "spend_4m_baby           int64\n",
       "spend_5m_baby           int64\n",
       "spend_6m_baby         float64\n",
       "spend_1m_clothes        int64\n",
       "spend_2m_clothes      float64\n",
       "spend_3m_clothes      float64\n",
       "spend_4m_clothes      float64\n",
       "spend_5m_clothes      float64\n",
       "spend_6m_clothes      float64\n",
       "spend_1m_health         int64\n",
       "spend_2m_health         int64\n",
       "spend_3m_health         int64\n",
       "spend_4m_health         int64\n",
       "spend_5m_health         int64\n",
       "spend_6m_health         int64\n",
       "spend_1m_pet            int64\n",
       "spend_2m_pet            int64\n",
       "spend_3m_pet            int64\n",
       "spend_4m_pet            int64\n",
       "spend_5m_pet            int64\n",
       "spend_6m_pet            int64\n",
       "spend_1m_groceries      int64\n",
       "spend_2m_groceries      int64\n",
       "spend_3m_groceries    float64\n",
       "spend_4m_groceries    float64\n",
       "spend_5m_groceries    float64\n",
       "spend_6m_groceries    float64\n",
       "spend_1m_eletronic      int64\n",
       "spend_2m_eletronic      int64\n",
       "spend_3m_eletronic      int64\n",
       "spend_4m_eletronic    float64\n",
       "spend_5m_eletronic    float64\n",
       "spend_6m_eletronic    float64\n",
       "sales                 float64\n",
       "discount               object\n",
       "profit                float64\n",
       "age                     int64\n",
       "gender                float64\n",
       "cust_state             object\n",
       "tenure                  int64\n",
       "dtype: object"
      ]
     },
     "execution_count": 4,
     "metadata": {},
     "output_type": "execute_result"
    }
   ],
   "source": [
    "rdd_dataset.dtypes"
   ]
  },
  {
   "cell_type": "code",
   "execution_count": 5,
   "id": "39282d4c",
   "metadata": {},
   "outputs": [],
   "source": [
    "rdd_dataset[\"discount\"] = rdd_dataset[\"discount\"].str.split(\" \").str[-1].astype(float)"
   ]
  },
  {
   "cell_type": "markdown",
   "id": "9ee77541",
   "metadata": {},
   "source": [
    "### Step 3"
   ]
  },
  {
   "cell_type": "code",
   "execution_count": 6,
   "id": "9d5aac69",
   "metadata": {},
   "outputs": [
    {
     "data": {
      "image/png": "[encoded data removed]",
      "text/plain": [
       "<Figure size 432x288 with 1 Axes>"
      ]
     },
     "metadata": {
      "needs_background": "light"
     },
     "output_type": "display_data"
    }
   ],
   "source": [
    "running_var = \"age\"\n",
    "\n",
    "group_rdd = (rdd_dataset\n",
    "             .groupby(running_var)\n",
    "             .agg({\"discount\":\"mean\"})\n",
    "             .reset_index())\n",
    "\n",
    "group_rdd.plot.scatter(x=running_var, y=\"discount\");"
   ]
  },
  {
   "cell_type": "code",
   "execution_count": 7,
   "id": "1a2900a8",
   "metadata": {},
   "outputs": [
    {
     "data": {
      "image/png": "[encoded data removed]",
      "text/plain": [
       "<Figure size 432x288 with 1 Axes>"
      ]
     },
     "metadata": {
      "needs_background": "light"
     },
     "output_type": "display_data"
    }
   ],
   "source": [
    "running_var = \"tenure\"\n",
    "\n",
    "group_rdd = (rdd_dataset\n",
    "             .groupby(running_var)\n",
    "             .agg({\"discount\":\"mean\"})\n",
    "             .reset_index())\n",
    "\n",
    "group_rdd.plot.scatter(x=running_var, y=\"discount\");"
   ]
  },
  {
   "cell_type": "code",
   "execution_count": 8,
   "id": "cb5a39a0",
   "metadata": {},
   "outputs": [
    {
     "data": {
      "image/png": "[encoded data removed]",
      "text/plain": [
       "<Figure size 432x288 with 1 Axes>"
      ]
     },
     "metadata": {
      "needs_background": "light"
     },
     "output_type": "display_data"
    }
   ],
   "source": [
    "running_var = \"spend_1m_groceries\"\n",
    "\n",
    "group_rdd = (rdd_dataset\n",
    "             .groupby(running_var)\n",
    "             .agg({\"discount\":\"mean\"})\n",
    "             .reset_index())\n",
    "\n",
    "group_rdd.plot.scatter(x=running_var, y=\"discount\");"
   ]
  },
  {
   "cell_type": "markdown",
   "id": "2d6baefb",
   "metadata": {},
   "source": [
    "There is a clear discount discontinuity by tenure. It looks like a discount increase at a tenure of 20 months. There isn’t any clear discontinuity in any other variable we’ve looked at. \n",
    "\n",
    "### Step 4"
   ]
  },
  {
   "cell_type": "code",
   "execution_count": 9,
   "id": "25b8f353",
   "metadata": {},
   "outputs": [
    {
     "data": {
      "image/png": "[encoded data removed]",
      "text/plain": [
       "<Figure size 432x288 with 1 Axes>"
      ]
     },
     "metadata": {
      "needs_background": "light"
     },
     "output_type": "display_data"
    }
   ],
   "source": [
    "running_var = \"tenure\"\n",
    "\n",
    "group_rdd = (rdd_dataset\n",
    "             .groupby(running_var)\n",
    "             .agg({\"sales\":\"mean\"})\n",
    "             .reset_index())\n",
    "\n",
    "group_rdd.plot.scatter(x=running_var, y=\"sales\");"
   ]
  },
  {
   "cell_type": "code",
   "execution_count": 10,
   "id": "cc55d59d",
   "metadata": {},
   "outputs": [
    {
     "data": {
      "image/png": "[encoded data removed]",
      "text/plain": [
       "<Figure size 432x288 with 1 Axes>"
      ]
     },
     "metadata": {
      "needs_background": "light"
     },
     "output_type": "display_data"
    }
   ],
   "source": [
    "running_var = \"tenure\"\n",
    "\n",
    "group_rdd = (rdd_dataset\n",
    "             .groupby(running_var)\n",
    "             .agg({\"profit\":\"mean\"})\n",
    "             .reset_index())\n",
    "\n",
    "group_rdd.plot.scatter(x=running_var, y=\"profit\");"
   ]
  },
  {
   "cell_type": "markdown",
   "id": "f4b418fa",
   "metadata": {},
   "source": [
    "Just like we saw a discontinuity in discount around tenure 20, there is a clear discontinuity in sales. Sales also increase dramatically once customers reach 20 month tenure. This is probably the effect of increasing discounts. On the other hand, when we look at profits, it seems that it decreases at the discontinuity. That is, customers just above tenure 20 are generating less profits than customers just below it. This probably indicates that the effect of discount on profits is negative\n",
    " \n",
    " \n",
    "### Step 5\n"
   ]
  },
  {
   "cell_type": "code",
   "execution_count": 11,
   "id": "b2e240d6",
   "metadata": {
    "scrolled": true
   },
   "outputs": [
    {
     "data": {
      "image/png": "[encoded data removed]",
      "text/plain": [
       "<Figure size 432x288 with 1 Axes>"
      ]
     },
     "metadata": {
      "needs_background": "light"
     },
     "output_type": "display_data"
    }
   ],
   "source": [
    "group_rdd = (rdd_dataset\n",
    "             .assign(count=1)\n",
    "             .groupby(running_var)\n",
    "             .agg({\"discount\":\"mean\", \"count\": \"sum\"})\n",
    "             .reset_index())\n",
    "\n",
    "group_rdd.plot.bar(y=\"count\", x=\"tenure\")\n",
    "\n",
    "plt.title(\"McCrary Test for Bunching\");"
   ]
  },
  {
   "cell_type": "markdown",
   "id": "c51909c3",
   "metadata": {},
   "source": [
    "There is no evidence of bunching. The histogram is smooth around the 20 month tenure. This is expected, as customers can't manipulate their tenure. \n",
    "\n",
    "## Milestone 2 - Regression Discontinuity Design"
   ]
  },
  {
   "cell_type": "markdown",
   "id": "fcb6c560",
   "metadata": {},
   "source": [
    "### Step 1"
   ]
  },
  {
   "cell_type": "code",
   "execution_count": 12,
   "id": "40210bac",
   "metadata": {
    "scrolled": true
   },
   "outputs": [
    {
     "data": {
      "text/html": [
       "<div>\n",
       "<style scoped>\n",
       "    .dataframe tbody tr th:only-of-type {\n",
       "        vertical-align: middle;\n",
       "    }\n",
       "\n",
       "    .dataframe tbody tr th {\n",
       "        vertical-align: top;\n",
       "    }\n",
       "\n",
       "    .dataframe thead th {\n",
       "        text-align: right;\n",
       "    }\n",
       "</style>\n",
       "<table border=\"1\" class=\"dataframe\">\n",
       "  <thead>\n",
       "    <tr style=\"text-align: right;\">\n",
       "      <th></th>\n",
       "      <th>spend_1m_baby</th>\n",
       "      <th>spend_2m_baby</th>\n",
       "      <th>spend_3m_baby</th>\n",
       "      <th>spend_4m_baby</th>\n",
       "      <th>spend_5m_baby</th>\n",
       "      <th>spend_6m_baby</th>\n",
       "      <th>spend_1m_clothes</th>\n",
       "      <th>spend_2m_clothes</th>\n",
       "      <th>spend_3m_clothes</th>\n",
       "      <th>spend_4m_clothes</th>\n",
       "      <th>...</th>\n",
       "      <th>spend_5m_eletronic</th>\n",
       "      <th>spend_6m_eletronic</th>\n",
       "      <th>sales</th>\n",
       "      <th>discount</th>\n",
       "      <th>profit</th>\n",
       "      <th>age</th>\n",
       "      <th>gender</th>\n",
       "      <th>cust_state</th>\n",
       "      <th>tenure</th>\n",
       "      <th>above_threshold</th>\n",
       "    </tr>\n",
       "  </thead>\n",
       "  <tbody>\n",
       "    <tr>\n",
       "      <th>0</th>\n",
       "      <td>5</td>\n",
       "      <td>0</td>\n",
       "      <td>0</td>\n",
       "      <td>0</td>\n",
       "      <td>10</td>\n",
       "      <td>0.0</td>\n",
       "      <td>0</td>\n",
       "      <td>0.0</td>\n",
       "      <td>0.0</td>\n",
       "      <td>0.0</td>\n",
       "      <td>...</td>\n",
       "      <td>0.0</td>\n",
       "      <td>0.0</td>\n",
       "      <td>1442.30</td>\n",
       "      <td>4.0</td>\n",
       "      <td>66.93</td>\n",
       "      <td>30</td>\n",
       "      <td>0.0</td>\n",
       "      <td>MA</td>\n",
       "      <td>0</td>\n",
       "      <td>0</td>\n",
       "    </tr>\n",
       "    <tr>\n",
       "      <th>1</th>\n",
       "      <td>0</td>\n",
       "      <td>0</td>\n",
       "      <td>0</td>\n",
       "      <td>0</td>\n",
       "      <td>0</td>\n",
       "      <td>0.0</td>\n",
       "      <td>0</td>\n",
       "      <td>0.0</td>\n",
       "      <td>0.0</td>\n",
       "      <td>0.0</td>\n",
       "      <td>...</td>\n",
       "      <td>0.0</td>\n",
       "      <td>0.0</td>\n",
       "      <td>883.96</td>\n",
       "      <td>2.0</td>\n",
       "      <td>41.33</td>\n",
       "      <td>30</td>\n",
       "      <td>1.0</td>\n",
       "      <td>MG</td>\n",
       "      <td>1</td>\n",
       "      <td>1</td>\n",
       "    </tr>\n",
       "    <tr>\n",
       "      <th>2</th>\n",
       "      <td>0</td>\n",
       "      <td>0</td>\n",
       "      <td>0</td>\n",
       "      <td>0</td>\n",
       "      <td>0</td>\n",
       "      <td>0.0</td>\n",
       "      <td>0</td>\n",
       "      <td>0.0</td>\n",
       "      <td>0.0</td>\n",
       "      <td>0.0</td>\n",
       "      <td>...</td>\n",
       "      <td>0.0</td>\n",
       "      <td>0.0</td>\n",
       "      <td>4900.67</td>\n",
       "      <td>224.0</td>\n",
       "      <td>15.88</td>\n",
       "      <td>29</td>\n",
       "      <td>0.0</td>\n",
       "      <td>RJ</td>\n",
       "      <td>2</td>\n",
       "      <td>1</td>\n",
       "    </tr>\n",
       "    <tr>\n",
       "      <th>3</th>\n",
       "      <td>0</td>\n",
       "      <td>0</td>\n",
       "      <td>0</td>\n",
       "      <td>0</td>\n",
       "      <td>0</td>\n",
       "      <td>0.0</td>\n",
       "      <td>25</td>\n",
       "      <td>25.0</td>\n",
       "      <td>0.0</td>\n",
       "      <td>25.0</td>\n",
       "      <td>...</td>\n",
       "      <td>0.0</td>\n",
       "      <td>0.0</td>\n",
       "      <td>1547.48</td>\n",
       "      <td>1.0</td>\n",
       "      <td>74.99</td>\n",
       "      <td>36</td>\n",
       "      <td>1.0</td>\n",
       "      <td>BA</td>\n",
       "      <td>-1</td>\n",
       "      <td>0</td>\n",
       "    </tr>\n",
       "    <tr>\n",
       "      <th>4</th>\n",
       "      <td>0</td>\n",
       "      <td>0</td>\n",
       "      <td>0</td>\n",
       "      <td>0</td>\n",
       "      <td>0</td>\n",
       "      <td>0.0</td>\n",
       "      <td>0</td>\n",
       "      <td>0.0</td>\n",
       "      <td>0.0</td>\n",
       "      <td>0.0</td>\n",
       "      <td>...</td>\n",
       "      <td>0.0</td>\n",
       "      <td>0.0</td>\n",
       "      <td>1335.23</td>\n",
       "      <td>13.0</td>\n",
       "      <td>52.41</td>\n",
       "      <td>37</td>\n",
       "      <td>0.0</td>\n",
       "      <td>PB</td>\n",
       "      <td>0</td>\n",
       "      <td>0</td>\n",
       "    </tr>\n",
       "  </tbody>\n",
       "</table>\n",
       "<p>5 rows × 44 columns</p>\n",
       "</div>"
      ],
      "text/plain": [
       "   spend_1m_baby  spend_2m_baby  spend_3m_baby  spend_4m_baby  spend_5m_baby  \\\n",
       "0              5              0              0              0             10   \n",
       "1              0              0              0              0              0   \n",
       "2              0              0              0              0              0   \n",
       "3              0              0              0              0              0   \n",
       "4              0              0              0              0              0   \n",
       "\n",
       "   spend_6m_baby  spend_1m_clothes  spend_2m_clothes  spend_3m_clothes  \\\n",
       "0            0.0                 0               0.0               0.0   \n",
       "1            0.0                 0               0.0               0.0   \n",
       "2            0.0                 0               0.0               0.0   \n",
       "3            0.0                25              25.0               0.0   \n",
       "4            0.0                 0               0.0               0.0   \n",
       "\n",
       "   spend_4m_clothes  ...  spend_5m_eletronic  spend_6m_eletronic    sales  \\\n",
       "0               0.0  ...                 0.0                 0.0  1442.30   \n",
       "1               0.0  ...                 0.0                 0.0   883.96   \n",
       "2               0.0  ...                 0.0                 0.0  4900.67   \n",
       "3              25.0  ...                 0.0                 0.0  1547.48   \n",
       "4               0.0  ...                 0.0                 0.0  1335.23   \n",
       "\n",
       "   discount  profit  age  gender  cust_state  tenure  above_threshold  \n",
       "0       4.0   66.93   30     0.0          MA       0                0  \n",
       "1       2.0   41.33   30     1.0          MG       1                1  \n",
       "2     224.0   15.88   29     0.0          RJ       2                1  \n",
       "3       1.0   74.99   36     1.0          BA      -1                0  \n",
       "4      13.0   52.41   37     0.0          PB       0                0  \n",
       "\n",
       "[5 rows x 44 columns]"
      ]
     },
     "execution_count": 12,
     "metadata": {},
     "output_type": "execute_result"
    }
   ],
   "source": [
    "tresh = 19\n",
    "rdd_centered = rdd_dataset.assign(tenure=rdd_dataset[\"tenure\"]-tresh)\n",
    "rdd_centered[\"above_threshold\"] = (rdd_centered[\"tenure\"] > 0).astype(int)\n",
    "\n",
    "rdd_centered.head()"
   ]
  },
  {
   "cell_type": "markdown",
   "id": "10633e02",
   "metadata": {},
   "source": [
    "### Step 2"
   ]
  },
  {
   "cell_type": "code",
   "execution_count": 13,
   "id": "33b7a387",
   "metadata": {},
   "outputs": [
    {
     "data": {
      "text/html": [
       "<table class=\"simpletable\">\n",
       "<tr>\n",
       "             <td></td>               <th>coef</th>     <th>std err</th>      <th>t</th>      <th>P>|t|</th>  <th>[0.025</th>    <th>0.975]</th>  \n",
       "</tr>\n",
       "<tr>\n",
       "  <th>Intercept</th>              <td>   10.0302</td> <td>    4.213</td> <td>    2.381</td> <td> 0.017</td> <td>    1.771</td> <td>   18.290</td>\n",
       "</tr>\n",
       "<tr>\n",
       "  <th>tenure</th>                 <td>    0.1118</td> <td>    3.263</td> <td>    0.034</td> <td> 0.973</td> <td>   -6.285</td> <td>    6.508</td>\n",
       "</tr>\n",
       "<tr>\n",
       "  <th>above_threshold</th>        <td>  184.7626</td> <td>    5.696</td> <td>   32.436</td> <td> 0.000</td> <td>  173.597</td> <td>  195.928</td>\n",
       "</tr>\n",
       "<tr>\n",
       "  <th>tenure:above_threshold</th> <td>    0.8269</td> <td>    3.430</td> <td>    0.241</td> <td> 0.809</td> <td>   -5.896</td> <td>    7.550</td>\n",
       "</tr>\n",
       "</table>"
      ],
      "text/plain": [
       "<class 'statsmodels.iolib.table.SimpleTable'>"
      ]
     },
     "execution_count": 13,
     "metadata": {},
     "output_type": "execute_result"
    }
   ],
   "source": [
    "model = smf.ols(\"discount~tenure*above_threshold\", rdd_centered).fit()\n",
    "\n",
    "model.summary().tables[1]"
   ]
  },
  {
   "cell_type": "markdown",
   "id": "612f2250",
   "metadata": {},
   "source": [
    "Fitting a linear regression interacting tenure with the threshold dummy \n",
    " \n",
    "$$\n",
    "discount_i = \\beta_0 + \\beta_1 tenure_i + \\beta_2 \\mathcal{1}_{tenure>19} + \\beta_3 \\mathcal{1}_{tenure>19} * threshold_i\n",
    "$$\n",
    " \n",
    "is equivalent to fitting two regression models: one above and another below the threshold. \\\\(\\beta_0\\\\) is the intercept for the model below the threshold. \\\\(\\beta_0+\\beta_2\\\\) is the intercept for the model above the threshold. Hence, \\\\(\\beta_2\\\\) is the jump we have from crossing the threshold. This is exactly the treatment effect we are looking for. \n",
    " \n",
    "This means that crossing the 20th month threshold increases discount by about `184` (95% CI between 173\tand 195). This is a statistically significant difference.\n",
    "\n",
    "### Step 3"
   ]
  },
  {
   "cell_type": "code",
   "execution_count": 14,
   "id": "efbddfb2",
   "metadata": {},
   "outputs": [],
   "source": [
    "rdd_group_pred = (rdd_centered\n",
    "                  .groupby(\"tenure\")\n",
    "                  [[\"discount\",\"above_threshold\"]]\n",
    "                  .mean()\n",
    "                  .reset_index())\n",
    "\n",
    "rdd_group_pred[\"predictions\"] = model.predict(rdd_group_pred)\n",
    "                \n"
   ]
  },
  {
   "cell_type": "markdown",
   "id": "27da7297",
   "metadata": {},
   "source": [
    "### Step 4"
   ]
  },
  {
   "cell_type": "code",
   "execution_count": 15,
   "id": "1bafc587",
   "metadata": {},
   "outputs": [
    {
     "data": {
      "image/png": "[encoded data removed]",
      "text/plain": [
       "<Figure size 432x288 with 1 Axes>"
      ]
     },
     "metadata": {
      "needs_background": "light"
     },
     "output_type": "display_data"
    }
   ],
   "source": [
    "\n",
    "ax = rdd_group_pred.plot.scatter(x=\"tenure\", y=\"discount\", color=\"C0\")\n",
    "rdd_group_pred.query(\"above_threshold<=0\").plot(x=\"tenure\", y=\"predictions\", ax=ax, color=\"C1\")\n",
    "rdd_group_pred.query(\"above_threshold>0\").plot(x=\"tenure\", y=\"predictions\", ax=ax, color=\"C1\", legend=False);"
   ]
  },
  {
   "cell_type": "markdown",
   "id": "1b19f42a",
   "metadata": {},
   "source": [
    "### Step 5"
   ]
  },
  {
   "cell_type": "code",
   "execution_count": 16,
   "id": "f1f22a5c",
   "metadata": {},
   "outputs": [
    {
     "data": {
      "text/html": [
       "<table class=\"simpletable\">\n",
       "<tr>\n",
       "             <td></td>               <th>coef</th>     <th>std err</th>      <th>t</th>      <th>P>|t|</th>  <th>[0.025</th>    <th>0.975]</th>  \n",
       "</tr>\n",
       "<tr>\n",
       "  <th>Intercept</th>              <td>   53.1927</td> <td>    1.208</td> <td>   44.046</td> <td> 0.000</td> <td>   50.825</td> <td>   55.560</td>\n",
       "</tr>\n",
       "<tr>\n",
       "  <th>tenure</th>                 <td>    0.1294</td> <td>    0.935</td> <td>    0.138</td> <td> 0.890</td> <td>   -1.704</td> <td>    1.963</td>\n",
       "</tr>\n",
       "<tr>\n",
       "  <th>above_threshold</th>        <td>   -7.6015</td> <td>    1.633</td> <td>   -4.656</td> <td> 0.000</td> <td>  -10.802</td> <td>   -4.401</td>\n",
       "</tr>\n",
       "<tr>\n",
       "  <th>tenure:above_threshold</th> <td>   -0.1608</td> <td>    0.983</td> <td>   -0.164</td> <td> 0.870</td> <td>   -2.088</td> <td>    1.766</td>\n",
       "</tr>\n",
       "</table>"
      ],
      "text/plain": [
       "<class 'statsmodels.iolib.table.SimpleTable'>"
      ]
     },
     "execution_count": 16,
     "metadata": {},
     "output_type": "execute_result"
    }
   ],
   "source": [
    "model = smf.ols(\"profit~tenure*above_threshold\", rdd_centered).fit()\n",
    "\n",
    "model.summary().tables[1]"
   ]
  },
  {
   "cell_type": "markdown",
   "id": "087b8b41",
   "metadata": {},
   "source": [
    "crossing the 20th month threshold decreases profits by about `7.6`. In other words, the impact of discounts on profits is negative. The company is losing money by giving discounts. This is a statistically significant difference. Since crossing the threshold increases discount by about 184 and decreases profits by about 7.6, we should expect each \\\\\\$ spend in discount to decrease profits by about 5 cents."
   ]
  },
  {
   "cell_type": "code",
   "execution_count": 17,
   "id": "43dc0d38",
   "metadata": {},
   "outputs": [
    {
     "data": {
      "image/png": "[encoded data removed]",
      "text/plain": [
       "<Figure size 576x360 with 1 Axes>"
      ]
     },
     "metadata": {
      "needs_background": "light"
     },
     "output_type": "display_data"
    }
   ],
   "source": [
    "rdd_group_pred = (rdd_centered\n",
    "                  .groupby(\"tenure\")\n",
    "                  [[\"profit\",\"above_threshold\"]]\n",
    "                  .mean()\n",
    "                  .reset_index())\n",
    "\n",
    "rdd_group_pred[\"predictions\"] = model.predict(rdd_group_pred)\n",
    "                \n",
    "\n",
    "ax = rdd_group_pred.plot.scatter(x=\"tenure\", y=\"profit\", color=\"C0\")\n",
    "rdd_group_pred.query(\"above_threshold<=0\").plot(x=\"tenure\", y=\"predictions\", ax=ax, color=\"C1\", figsize=(8,5))\n",
    "rdd_group_pred.query(\"above_threshold>0\").plot(x=\"tenure\", y=\"predictions\", ax=ax, color=\"C1\", legend=False);"
   ]
  },
  {
   "cell_type": "markdown",
   "id": "280f9ac7",
   "metadata": {},
   "source": [
    "## Milestone - 3: Kernel Weights for Better Extrapolation\n",
    "\n",
    "### Step 1"
   ]
  },
  {
   "cell_type": "code",
   "execution_count": 18,
   "id": "29ef4efc",
   "metadata": {},
   "outputs": [
    {
     "data": {
      "text/plain": [
       "array([0. , 0.5, 1. , 0.5, 0. ])"
      ]
     },
     "execution_count": 18,
     "metadata": {},
     "output_type": "execute_result"
    }
   ],
   "source": [
    "def kernel(R, c, h):\n",
    "    indicator = (np.abs(R-c) <= h).astype(float)\n",
    "    return indicator * (1 - np.abs(R-c)/h)\n",
    "\n",
    "\n",
    "kernel(np.array([1,2,3,4,5]), c=3, h=2)"
   ]
  },
  {
   "cell_type": "markdown",
   "id": "494d273d",
   "metadata": {},
   "source": [
    "### Step 2"
   ]
  },
  {
   "cell_type": "code",
   "execution_count": 19,
   "id": "7459d429",
   "metadata": {},
   "outputs": [
    {
     "data": {
      "image/png": "[encoded data removed]",
      "text/plain": [
       "<Figure size 432x288 with 1 Axes>"
      ]
     },
     "metadata": {
      "needs_background": "light"
     },
     "output_type": "display_data"
    }
   ],
   "source": [
    "all_tenures  = np.array(sorted(rdd_centered[\"tenure\"].unique()))\n",
    "                  \n",
    "plt.plot(all_tenures, kernel(all_tenures, c=0, h=3))\n",
    "plt.xlabel(\"tenure\")\n",
    "plt.ylabel(\"Weight\")\n",
    "plt.title(\"Kernel Weight by Tenure\");"
   ]
  },
  {
   "cell_type": "markdown",
   "id": "45637abf",
   "metadata": {},
   "source": [
    "### Step 3"
   ]
  },
  {
   "cell_type": "code",
   "execution_count": 20,
   "id": "41396285",
   "metadata": {},
   "outputs": [
    {
     "name": "stderr",
     "output_type": "stream",
     "text": [
      "/home/nubank/anaconda3/envs/causal-glory/lib/python3.9/site-packages/statsmodels/regression/linear_model.py:764: RuntimeWarning: divide by zero encountered in log\n",
      "  llf += 0.5 * np.sum(np.log(self.weights))\n"
     ]
    },
    {
     "data": {
      "text/html": [
       "<table class=\"simpletable\">\n",
       "<tr>\n",
       "             <td></td>               <th>coef</th>     <th>std err</th>      <th>t</th>      <th>P>|t|</th>  <th>[0.025</th>    <th>0.975]</th>  \n",
       "</tr>\n",
       "<tr>\n",
       "  <th>Intercept</th>              <td>   53.2882</td> <td>    0.742</td> <td>   71.858</td> <td> 0.000</td> <td>   51.835</td> <td>   54.742</td>\n",
       "</tr>\n",
       "<tr>\n",
       "  <th>tenure</th>                 <td>    0.2974</td> <td>    0.788</td> <td>    0.377</td> <td> 0.706</td> <td>   -1.247</td> <td>    1.842</td>\n",
       "</tr>\n",
       "<tr>\n",
       "  <th>above_threshold</th>        <td>   -8.3126</td> <td>    1.614</td> <td>   -5.151</td> <td> 0.000</td> <td>  -11.476</td> <td>   -5.149</td>\n",
       "</tr>\n",
       "<tr>\n",
       "  <th>tenure:above_threshold</th> <td>    0.1060</td> <td>    1.117</td> <td>    0.095</td> <td> 0.924</td> <td>   -2.083</td> <td>    2.295</td>\n",
       "</tr>\n",
       "</table>"
      ],
      "text/plain": [
       "<class 'statsmodels.iolib.table.SimpleTable'>"
      ]
     },
     "execution_count": 20,
     "metadata": {},
     "output_type": "execute_result"
    }
   ],
   "source": [
    "model = smf.wls(\"profit~tenure*above_threshold\",\n",
    "                weights=kernel(rdd_centered[\"tenure\"], c=0, h=4),\n",
    "               data=rdd_centered).fit()\n",
    "\n",
    "model.summary().tables[1]"
   ]
  },
  {
   "cell_type": "markdown",
   "id": "94f81a79",
   "metadata": {},
   "source": [
    "Once again, the impact of discount on profits is negative. Not only that, now, with the kernel, the effect is a bit more negative than before. Now, as we cross the threshold, profits decreases by 8.3\n",
    "\n",
    "### Step 4"
   ]
  },
  {
   "cell_type": "code",
   "execution_count": 21,
   "id": "d6175293",
   "metadata": {},
   "outputs": [
    {
     "data": {
      "image/png": "[encoded data removed]",
      "text/plain": [
       "<Figure size 576x360 with 1 Axes>"
      ]
     },
     "metadata": {
      "needs_background": "light"
     },
     "output_type": "display_data"
    }
   ],
   "source": [
    "rdd_group_pred = (rdd_centered\n",
    "                  .groupby(\"tenure\")\n",
    "                  [[\"profit\",\"above_threshold\"]]\n",
    "                  .mean()\n",
    "                  .reset_index())\n",
    "\n",
    "rdd_group_pred[\"predictions\"] = model.predict(rdd_group_pred)\n",
    "                \n",
    "\n",
    "ax = rdd_group_pred.plot.scatter(x=\"tenure\", y=\"profit\", color=\"C0\")\n",
    "rdd_group_pred.query(\"above_threshold<=0\").plot(x=\"tenure\", y=\"predictions\", ax=ax, color=\"C1\", figsize=(8,5))\n",
    "rdd_group_pred.query(\"above_threshold>0\").plot(x=\"tenure\", y=\"predictions\", ax=ax, color=\"C1\", legend=False);"
   ]
  },
  {
   "cell_type": "markdown",
   "id": "01f44404",
   "metadata": {},
   "source": [
    "### Step 5"
   ]
  },
  {
   "cell_type": "code",
   "execution_count": 22,
   "id": "4cb14b83",
   "metadata": {},
   "outputs": [
    {
     "name": "stderr",
     "output_type": "stream",
     "text": [
      "/home/nubank/anaconda3/envs/causal-glory/lib/python3.9/site-packages/statsmodels/regression/linear_model.py:764: RuntimeWarning: divide by zero encountered in log\n",
      "  llf += 0.5 * np.sum(np.log(self.weights))\n"
     ]
    },
    {
     "data": {
      "text/html": [
       "<table class=\"simpletable\">\n",
       "<tr>\n",
       "             <td></td>               <th>coef</th>     <th>std err</th>      <th>t</th>      <th>P>|t|</th>  <th>[0.025</th>    <th>0.975]</th>  \n",
       "</tr>\n",
       "<tr>\n",
       "  <th>Intercept</th>              <td>   53.3467</td> <td>    0.620</td> <td>   86.063</td> <td> 0.000</td> <td>   52.132</td> <td>   54.562</td>\n",
       "</tr>\n",
       "<tr>\n",
       "  <th>tenure</th>                 <td>    0.4708</td> <td>    0.797</td> <td>    0.590</td> <td> 0.555</td> <td>   -1.092</td> <td>    2.034</td>\n",
       "</tr>\n",
       "<tr>\n",
       "  <th>above_threshold</th>        <td>   -6.1449</td> <td>    1.826</td> <td>   -3.365</td> <td> 0.001</td> <td>   -9.724</td> <td>   -2.566</td>\n",
       "</tr>\n",
       "<tr>\n",
       "  <th>tenure:above_threshold</th> <td>   -1.8280</td> <td>    1.440</td> <td>   -1.269</td> <td> 0.204</td> <td>   -4.651</td> <td>    0.995</td>\n",
       "</tr>\n",
       "</table>"
      ],
      "text/plain": [
       "<class 'statsmodels.iolib.table.SimpleTable'>"
      ]
     },
     "execution_count": 22,
     "metadata": {},
     "output_type": "execute_result"
    }
   ],
   "source": [
    "model = smf.wls(\"profit~tenure*above_threshold\",\n",
    "                weights=kernel(rdd_centered[\"tenure\"], c=0, h=3),\n",
    "               data=rdd_centered).fit()\n",
    "\n",
    "model.summary().tables[1]"
   ]
  },
  {
   "cell_type": "code",
   "execution_count": 23,
   "id": "b31f0a3a",
   "metadata": {},
   "outputs": [
    {
     "data": {
      "image/png": "[encoded data removed]",
      "text/plain": [
       "<Figure size 576x360 with 1 Axes>"
      ]
     },
     "metadata": {
      "needs_background": "light"
     },
     "output_type": "display_data"
    }
   ],
   "source": [
    "rdd_group_pred = (rdd_centered\n",
    "                  .groupby(\"tenure\")\n",
    "                  [[\"profit\",\"above_threshold\"]]\n",
    "                  .mean()\n",
    "                  .reset_index())\n",
    "\n",
    "rdd_group_pred[\"predictions\"] = model.predict(rdd_group_pred)\n",
    "                \n",
    "\n",
    "ax = rdd_group_pred.plot.scatter(x=\"tenure\", y=\"profit\", color=\"C0\")\n",
    "rdd_group_pred.query(\"above_threshold<=0\").plot(x=\"tenure\", y=\"predictions\", ax=ax, color=\"C1\", figsize=(8,5))\n",
    "rdd_group_pred.query(\"above_threshold>0\").plot(x=\"tenure\", y=\"predictions\", ax=ax, color=\"C1\", legend=False);"
   ]
  },
  {
   "cell_type": "markdown",
   "id": "b406f4b3",
   "metadata": {},
   "source": [
    "Playing with the width parameter of the kernel can change the regression line by a lot. The lower the width, the less we consider points far from the threshold. "
   ]
  },
  {
   "cell_type": "code",
   "execution_count": null,
   "id": "c95eb3a3",
   "metadata": {},
   "outputs": [],
   "source": []
  }
 ],
 "metadata": {
  "kernelspec": {
   "display_name": "causal-glory",
   "language": "python",
   "name": "causal-glory"
  },
  "language_info": {
   "codemirror_mode": {
    "name": "ipython",
    "version": 3
   },
   "file_extension": ".py",
   "mimetype": "text/x-python",
   "name": "python",
   "nbconvert_exporter": "python",
   "pygments_lexer": "ipython3",
   "version": "3.9.4"
  }
 },
 "nbformat": 4,
 "nbformat_minor": 5
}
